{
 "cells": [
  {
   "cell_type": "code",
   "execution_count": 27,
   "metadata": {},
   "outputs": [],
   "source": [
    "import urllib.request\n",
    "import pprint as pp\n",
    "import datetime, pymysql, json\n",
    "import matplotlib as mpl\n",
    "import matplotlib.pyplot as plt\n",
    "import matplotlib.font_manager as fm\n",
    "import pandas as pd\n",
    "from flask_models import *\n",
    "from sqlalchemy.orm import sessionmaker\n",
    "from sqlalchemy.sql import select\n",
    "from sqlalchemy import create_engine, and_, or_, exists\n",
    "from sqlalchemy.ext.declarative import declarative_base\n",
    "import numpy as npa\n",
    "import connections as cnnt\n",
    "import monthdelta\n",
    "\n",
    "with open(\"config.json\", \"r\", encoding=\"utf8\") as f:\n",
    "    contents = f.read()\n",
    "    json_data = json.loads(contents)\n",
    "kobis_key = json_data[\"users\"][0][\"kobis_key\"]\n",
    "user, password, host, port, DB = cnnt.aws_basic_info()\n",
    "\n",
    "def insert_movie_audiance_num_per_date(input_date, time_section):\n",
    "    #params : week or month\n",
    "    searching_date = []\n",
    "\n",
    "    if not input_date:\n",
    "        print(\"오늘날짜 업데이트가 되지 않았어요ㅜㅜ 어제날짜로 검색하시겠습니까?\")\n",
    "\n",
    "    while time_section:\n",
    "        searching_date.append(input_date.strftime(\"%Y%m%d\"))\n",
    "        input_date -= datetime.timedelta(days=1)\n",
    "        time_section -= 1\n",
    "\n",
    "\n",
    "    for date_time in searching_date:\n",
    "        base_url = urllib.request.urlopen(f\"http://www.kobis.or.kr/kobisopenapi/webservice/rest/boxoffice/searchDailyBoxOfficeList.json?key={kobis_key}&targetDt={date_time}\")\n",
    "        sources = json.load(base_url)\n",
    "        \n",
    "        movie_infos = sources[\"boxOfficeResult\"]['dailyBoxOfficeList']\n",
    "\n",
    "        for movie_info in movie_infos:\n",
    "            print(movie_info[\"movieNm\"], date_time, movie_info[\"audiAcc\"])\n",
    "\n",
    "    return searching_date\n"
   ]
  },
  {
   "cell_type": "code",
   "execution_count": 28,
   "metadata": {},
   "outputs": [
    {
     "name": "stdout",
     "output_type": "stream",
     "text": [
      "쥬라기 월드: 폴른 킹덤 20180613 3999921\n",
      "탐정: 리턴즈 20180613 251065\n",
      "오션스8 20180613 200180\n",
      "독전 20180613 4678420\n",
      "극장판 포켓몬스터DP - 디아루가 VS 펄기아 VS 다크라이 20180613 155195\n",
      "아이 필 프리티 20180613 147074\n",
      "유전 20180613 126936\n",
      "토니스토리2: 고철왕국의 친구들 20180613 6441\n",
      "데드풀 2 20180613 3770915\n",
      "벅스 프렌즈 20180613 30713\n"
     ]
    },
    {
     "data": {
      "text/plain": [
       "['20180614', '20180613']"
      ]
     },
     "execution_count": 28,
     "metadata": {},
     "output_type": "execute_result"
    }
   ],
   "source": [
    "insert_movie_audiance_num_per_date(datetime.datetime.now().date(), 2)"
   ]
  }
 ],
 "metadata": {
  "kernelspec": {
   "display_name": "Python 3",
   "language": "python",
   "name": "python3"
  },
  "language_info": {
   "codemirror_mode": {
    "name": "ipython",
    "version": 3
   },
   "file_extension": ".py",
   "mimetype": "text/x-python",
   "name": "python",
   "nbconvert_exporter": "python",
   "pygments_lexer": "ipython3",
   "version": "3.6.4"
  }
 },
 "nbformat": 4,
 "nbformat_minor": 2
}
